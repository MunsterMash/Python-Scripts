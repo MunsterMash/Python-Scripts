{
 "cells": [
  {
   "cell_type": "code",
   "execution_count": 1,
   "metadata": {},
   "outputs": [
    {
     "ename": "NameError",
     "evalue": "name 're' is not defined",
     "output_type": "error",
     "traceback": [
      "\u001b[1;31m---------------------------------------------------------------------------\u001b[0m",
      "\u001b[1;31mNameError\u001b[0m                                 Traceback (most recent call last)",
      "\u001b[1;32m<ipython-input-1-35fc21cf6eb6>\u001b[0m in \u001b[0;36m<module>\u001b[1;34m()\u001b[0m\n\u001b[0;32m     15\u001b[0m     \u001b[1;32mfor\u001b[0m \u001b[0mline\u001b[0m \u001b[1;32min\u001b[0m \u001b[0mf\u001b[0m\u001b[1;33m:\u001b[0m\u001b[1;33m\u001b[0m\u001b[0m\n\u001b[0;32m     16\u001b[0m         \u001b[1;31m#result.append(line.strip().split(delimiter))\u001b[0m\u001b[1;33m\u001b[0m\u001b[1;33m\u001b[0m\u001b[0m\n\u001b[1;32m---> 17\u001b[1;33m         \u001b[0mre\u001b[0m\u001b[1;33m.\u001b[0m\u001b[0msplit\u001b[0m\u001b[1;33m(\u001b[0m\u001b[0mr\u001b[0m\u001b[1;33m[\u001b[0m\u001b[0mdelimiter\u001b[0m\u001b[1;33m]\u001b[0m\u001b[1;33m,\u001b[0m \u001b[0mline\u001b[0m\u001b[1;33m)\u001b[0m\u001b[1;33m\u001b[0m\u001b[0m\n\u001b[0m\u001b[0;32m     18\u001b[0m \u001b[1;33m\u001b[0m\u001b[0m\n\u001b[0;32m     19\u001b[0m \u001b[1;32mdef\u001b[0m \u001b[0mlistToStringWithoutBrackets\u001b[0m\u001b[1;33m(\u001b[0m\u001b[0mlist1\u001b[0m\u001b[1;33m)\u001b[0m\u001b[1;33m:\u001b[0m\u001b[1;33m\u001b[0m\u001b[0m\n",
      "\u001b[1;31mNameError\u001b[0m: name 're' is not defined"
     ]
    }
   ],
   "source": [
    "import pyodbc as pypyodbc\n",
    "\n",
    "con = pypyodbc.connect(\"DRIVER={MySQL ODBC 5.3 ANSI Driver}; SERVER=localhost; PORT=3306;DATABASE=sim; UID=root; PASSWORD=12345\") \n",
    "\n",
    "cur = con.cursor()\n",
    "\n",
    "fileName ='inputOne.txt'\n",
    "delimiter = '~'\n",
    "nameOne = []\n",
    "#open('path to file)\n",
    "\n",
    "\n",
    "result = []\n",
    "with open(fileName, \"r\") as f: \n",
    "    for line in f: \n",
    "        #result.append(line.strip().split(delimiter))\n",
    "\n",
    "def listToStringWithoutBrackets(list1):\n",
    "    return str(list1).replace('[','(').replace(']',')').replace('((', '(').replace('))',')')\n",
    "\n",
    "def listToStringWithoutBracketsCommas(list1):\n",
    "    return str(list1).replace('\\'','').replace('[','(').replace(']',')').replace('((', '(').replace('))',')')\n",
    "\n",
    "result2 = listToStringWithoutBrackets(result[1:])\n",
    "resultHeader = listToStringWithoutBracketsCommas(result[0:1])\n",
    "#Inserting into File\n",
    "#Use Replace into if expecting duplicates\n",
    "cur.execute('REPLACE INTO employees '+ resultHeader + ' VALUES ' + result2 + ';')\n",
    "#Use INSERT if not expecting duplicates\n",
    "cur.execute('INSERT INTO employees '+ resultHeader + ' VALUES ' + result2 + ';')\n",
    "\n",
    "#Must commit all data being altered\n",
    "cur.commit()\n",
    "\n",
    "#Test print\n",
    "cur.execute('Select * from employees;')\n",
    "rows = cur.fetchall()\n",
    "for row in rows:\n",
    "    print(row.empName, row.title, row.age)\n",
    "#Close Connection\n",
    "con.close() "
   ]
  },
  {
   "cell_type": "code",
   "execution_count": null,
   "metadata": {
    "collapsed": true
   },
   "outputs": [],
   "source": []
  }
 ],
 "metadata": {
  "kernelspec": {
   "display_name": "Python 3",
   "language": "python",
   "name": "python3"
  },
  "language_info": {
   "codemirror_mode": {
    "name": "ipython",
    "version": 3
   },
   "file_extension": ".py",
   "mimetype": "text/x-python",
   "name": "python",
   "nbconvert_exporter": "python",
   "pygments_lexer": "ipython3",
   "version": "3.6.1"
  }
 },
 "nbformat": 4,
 "nbformat_minor": 2
}
