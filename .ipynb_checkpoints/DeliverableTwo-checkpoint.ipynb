{
 "cells": [
  {
   "cell_type": "code",
   "execution_count": null,
   "metadata": {},
   "outputs": [],
   "source": [
    "import pyodbc as pypyodbc\n",
    "\n",
    "con = pypyodbc.connect(\n",
    "    r'Driver={SQL Server Native Client 10.0};'\n",
    "    r'Server=(.\\SQLEXPRESS)'\n",
    "    r'Trusted_Connection=yes;')\n",
    "\n",
    "cur = con.cursor()\n",
    "\n",
    "fileName ='inputOne.txt'\n",
    "delimiter = '~'\n",
    "nameOne = []\n",
    "#open('path to file)\n",
    "\n",
    "'''\n",
    "#Reading in entire txt files\n",
    "with open(fileName) as f:\n",
    "    for line in f:\n",
    "        #split(delimiter) returns a list of strings / use re.split if multiple delimiters\n",
    "        nameOne = line.strip().split(delimiter)\n",
    "        print(nameOne)\n",
    "        #comment out for entire txt file\n",
    "        #break\n",
    "'''\n",
    "\n",
    "result = []\n",
    "with open(fileName, \"r\") as f: \n",
    "    for line in f: \n",
    "        result.append(line.strip().split(delimiter))\n",
    "\n",
    "#Create table employees('+result[0:1]+' VARCHAR Primary Key, '+ result[0:2] +' VARCHAR,' + result[0:3]+ ' VARCHAR);'\n",
    "cur.execute('INSERT into employees VALUES(' + str(result[1:]) + ')')\n",
    "\n",
    "con.close() "
   ]
  },
  {
   "cell_type": "code",
   "execution_count": null,
   "metadata": {
    "collapsed": true
   },
   "outputs": [],
   "source": []
  }
 ],
 "metadata": {
  "kernelspec": {
   "display_name": "Python 3",
   "language": "python",
   "name": "python3"
  },
  "language_info": {
   "codemirror_mode": {
    "name": "ipython",
    "version": 3
   },
   "file_extension": ".py",
   "mimetype": "text/x-python",
   "name": "python",
   "nbconvert_exporter": "python",
   "pygments_lexer": "ipython3",
   "version": "3.6.1"
  }
 },
 "nbformat": 4,
 "nbformat_minor": 2
}
