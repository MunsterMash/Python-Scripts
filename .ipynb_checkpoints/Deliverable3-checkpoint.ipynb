{
 "cells": [
  {
   "cell_type": "code",
   "execution_count": null,
   "metadata": {
    "collapsed": true
   },
   "outputs": [],
   "source": [
    "'''input_fileName = input(\"Enter input file name and file path if located in different folder: \")\n",
    "\n",
    "inputDelimiter = ''\n",
    "delimiters = []\n",
    "while inputDelimiter != 'done':\n",
    "    inputDelimiter =input(\"Enter delimiters one at a time. Enter 'done' when finished. Example:('!', '~', '|'): \")\n",
    "    if inputDelimiter == 'done':\n",
    "        break\n",
    "    delimiters.append(inputDelimiter)\n",
    "\n",
    "print(\"\\nCan be located in Control Panel -> System and Secruity -> Admin Tools on Windows\")\n",
    "inputDriver = input(\"Enter database drivers: \")\n",
    "inputServer = input(\"Enter server name of data source: \")\n",
    "inputDBname = input(\"Enter database name: \")\n",
    "inputPort = input(\"Enter port number: \")\n",
    "inputUID = input(\"Enter UID: \")\n",
    "inputPWD = input(\"Enter password: \")\n",
    "con = py.connect('DRIVER = {' + inputDriver + '}; Server=' + inputServer + '; PORT=' + inputPort +'; DATABASE= ' + inputDBname + '; UID='+ inputUID + '; PASSWORD =' + inputPWD)\n",
    "print(delimiters)\n",
    "'''"
   ]
  },
  {
   "cell_type": "code",
   "execution_count": 22,
   "metadata": {},
   "outputs": [
    {
     "name": "stdout",
     "output_type": "stream",
     "text": [
      "inputTwo_txt2017_Jul_25_10_32_23\n",
      "(empName, title, age)\n",
      "('Liz', 'Punk', '6ish'), ('Mat', 'FrisbeeMan', 'NA'), ('Scott', 'Scooter', 'Unknown'), ('Manoj', 'Data Analyst', 'Unknown'), ('Allan', '1035B', '22')\n",
      " Enter variable type and keys for column 0 Example: VARCHAR(40) Primary Key: VARCHAR(40) Primary Key\n",
      " Enter variable type and keys for column 1 Example: VARCHAR(40) Primary Key: VARCHAR(20)\n",
      " Enter variable type and keys for column 2 Example: VARCHAR(40) Primary Key: VARCHAR(20)\n"
     ]
    },
    {
     "data": {
      "text/plain": [
       "tuple"
      ]
     },
     "execution_count": 22,
     "metadata": {},
     "output_type": "execute_result"
    }
   ],
   "source": [
    "import pyodbc as py\n",
    "import datetime\n",
    "import re\n",
    "\n",
    "\n",
    "con = py.connect(\"DRIVER={MySQL ODBC 5.3 ANSI Driver}; SERVER=localhost; PORT=3306;DATABASE=sim; UID=root; PASSWORD=12345\") \n",
    "cur = con.cursor()\n",
    "\n",
    "#Filename and path to file if needed\n",
    "fileName ='inputTwo.txt'\n",
    "delimiters = ('|','~')\n",
    "result = []\n",
    "colName = []\n",
    "colCount = 0\n",
    "\n",
    "#Getting the current time\n",
    "timeStamp = ('{:%Y-%b-%d %H:%M:%S}'.format(datetime.datetime.now()))\n",
    "tableName = fileName + timeStamp\n",
    "\n",
    "regexPattern = '|'.join(map(re.escape, delimiters))\n",
    "\n",
    "#reads line by line\n",
    "with open(fileName, \"r\") as f: \n",
    "    for index, line in enumerate(f, start = 0): \n",
    "        \n",
    "#splits line and inputs into result list\n",
    "        result.append(re.split(regexPattern, line))\n",
    "\n",
    "#for if/loop counts delimiters\n",
    "        if index== 0:\n",
    "            for delimiter in delimiters:\n",
    "                if delimiter in line:\n",
    "                    colCount += line.count(delimiter)\n",
    "                    \n",
    "\n",
    "#formatting for SQL queries                \n",
    "def formatTableName(string1):\n",
    "    return str(string1).replace(' ','_').replace('-','_').replace(':', '_').replace('.', '_')\n",
    "        \n",
    "def listToStringWithoutBrackets(list1):\n",
    "    return str(list1).replace('[','(').replace(']',')').replace('((', '(').replace('))',')').replace(r'\\n', '')\n",
    "\n",
    "def listToStringWithoutBracketsCommas(list1):\n",
    "    return str(list1).replace('\\'','').replace('[','(').replace(']',')').replace('((', '(').replace('))',')').replace(r'\\n', '')\n",
    "\n",
    "result2 = listToStringWithoutBrackets(result[1:])\n",
    "colNames = listToStringWithoutBracketsCommas(result[0:1])\n",
    "tableName = formatTableName(tableName)\n",
    "\n",
    "\n",
    "for i, num in enumerate(result[0], start = 0):\n",
    "    inputVariable = input(\" Enter variable type and keys for column \" + str(i) + ' Example: VARCHAR(40) Primary Key: ')\n",
    "    result[0][i] = (result[0][i] + ' ' + inputVariable)\n",
    "    \n",
    "#Variable used to create table\n",
    "colNamesWithVar = listToStringWithoutBracketsCommas(result[0])\n",
    "\n",
    "\n"
   ]
  },
  {
   "cell_type": "code",
   "execution_count": 29,
   "metadata": {},
   "outputs": [
    {
     "name": "stdout",
     "output_type": "stream",
     "text": [
      "CREATE table inputTwo_txt2017_Jul_25_10_32_23 (empName VARCHAR(40) Primary Key, title VARCHAR(20), age VARCHAR(20));\n"
     ]
    }
   ],
   "source": [
    "\n",
    "\n",
    "#Creating table\n",
    "\n",
    "#cur.execute('DROP TABLE IF EXISTS \\'' + tableName + '\\';')\n",
    "cur.execute('CREATE table '+ tableName + ' ' + colNamesWithVar + ');')\n",
    "cur.commit()\n",
    "\n",
    "            \n",
    "#Inserting into File\n",
    "#Use Replace into if expecting duplicates\n",
    "cur.execute('REPLACE INTO ' + tableName + ' '+ colNames + ' VALUES ' + result2 + ';')\n",
    "#Use INSERT if not expecting duplicates\n",
    "#cur.execute('INSERT INTO ' + tableName + '+ colNames + ' VALUES ' + result2 + ';')\n",
    "\n",
    "#Must commit all data being altered\n",
    "cur.commit()\n",
    "\n",
    "\n",
    "#Close Connection\n",
    "#con.close() "
   ]
  }
 ],
 "metadata": {
  "kernelspec": {
   "display_name": "Python 3",
   "language": "python",
   "name": "python3"
  },
  "language_info": {
   "codemirror_mode": {
    "name": "ipython",
    "version": 3
   },
   "file_extension": ".py",
   "mimetype": "text/x-python",
   "name": "python",
   "nbconvert_exporter": "python",
   "pygments_lexer": "ipython3",
   "version": "3.6.1"
  }
 },
 "nbformat": 4,
 "nbformat_minor": 2
}
