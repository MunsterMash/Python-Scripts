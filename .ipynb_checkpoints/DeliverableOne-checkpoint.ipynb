{
 "cells": [
  {
   "cell_type": "code",
   "execution_count": null,
   "metadata": {
    "collapsed": true
   },
   "outputs": [],
   "source": [
    "import sys\n",
    "import re\n",
    "#open('path to file)\n",
    "fileName ='inputOne.txt'\n",
    "#N = int(f.readline().strip())q\n",
    "delimiter = '~'\n",
    "#split returns a list of strings\n",
    "#print str.split(delimiter, 1 )\n",
    "with open(fileName) as f:\n",
    "    for line in sys.stdin:\n",
    "        nameOne = line.strip().split(delimiter)\n",
    "        print name\n"
   ]
  }
 ],
 "metadata": {
  "kernelspec": {
   "display_name": "Python 3",
   "language": "python",
   "name": "python3"
  },
  "language_info": {
   "codemirror_mode": {
    "name": "ipython",
    "version": 3
   },
   "file_extension": ".py",
   "mimetype": "text/x-python",
   "name": "python",
   "nbconvert_exporter": "python",
   "pygments_lexer": "ipython3",
   "version": "3.6.1"
  }
 },
 "nbformat": 4,
 "nbformat_minor": 2
}
