{
 "cells": [
  {
   "cell_type": "code",
   "execution_count": 161,
   "metadata": {
    "collapsed": true
   },
   "outputs": [],
   "source": [
    "#Stuff that might improve the TejaProject\n",
    "\n",
    "\n",
    "# import glob\n",
    "\n",
    "# files_grabbed = [glob.glob(e) for e in ['*.txt']]\n",
    "# input_fileName = input(\"Enter input file name and file path if located in different folder: \")\n",
    "\n",
    "# inputDelimiter = ''\n",
    "# delimiters = []\n",
    "# while inputDelimiter != 'done':\n",
    "#     inputDelimiter =input(\"Enter delimiters one at a time. Enter 'done' when finished. Example:('!', '~', '|'): \")\n",
    "#     if inputDelimiter == 'done':\n",
    "#         break\n",
    "#     delimiters.append(inputDelimiter)\n",
    "\n",
    "# print(\"\\nCan be located in Control Panel -> System and Secruity -> Admin Tools on Windows\")\n",
    "# inputDriver = input(\"Enter database drivers: \")\n",
    "# inputServer = input(\"Enter server name of data source: \")\n",
    "# inputDBname = input(\"Enter database name: \")\n",
    "# inputPort = input(\"Enter port number: \")\n",
    "# inputUID = input(\"Enter UID: \")\n",
    "# inputPWD = input(\"Enter password: \")\n",
    "# con = py.connect('DRIVER = {' + inputDriver + '}; Server=' + inputServer + '; PORT=' + inputPort +'; DATABASE= ' + inputDBname + '; UID='+ inputUID + '; PASSWORD =' + inputPWD)\n",
    "# print(delimiters)\n"
   ]
  },
  {
   "cell_type": "code",
   "execution_count": 1,
   "metadata": {},
   "outputs": [
    {
     "name": "stdout",
     "output_type": "stream",
     "text": [
      "Based on the number of delimiters. There should be 4 columns\n",
      "Date columns should be formatted as YYYY-MM-DD, else it will be declared as a VARCHAR\n",
      "inputTwo2017_Jul_26_14_56_11\n"
     ]
    }
   ],
   "source": [
    "#Authors: Allan Hoang, Scott G. Murphy\n",
    "\n",
    "import pyodbc as py\n",
    "import datetime\n",
    "import re\n",
    "\n",
    "\n",
    "try:\n",
    "    con = py.connect(\"DRIVER={MySQL ODBC 5.3 ANSI Driver}; SERVER=localhost; PORT=3306;DATABASE=sim; UID=root; PASSWORD=12345\") \n",
    "except pyodbc.Error as ex:\n",
    "    sqlstate = ex.args[1]\n",
    "    print(sqlstate) \n",
    "\n",
    "#con = py.connect(\"DRIVER={MySQL ODBC 5.3 ANSI Driver}; SERVER=localhost; PORT=3306;DATABASE=sim; UID=root; PASSWORD=12345\")     \n",
    "cur = con.cursor()\n",
    "\n",
    "#Filename and path to file if needed\n",
    "fileName ='inputTwo.txt'\n",
    "delimiters = ('~', '|')\n",
    "result = []\n",
    "colName = []\n",
    "colCount = 1\n",
    "\n",
    "#Getting the current time\n",
    "timeStamp = ('{:%Y-%b-%d %H:%M:%S}'.format(datetime.datetime.now()))\n",
    "tableName = fileName + timeStamp\n",
    "\n",
    "regexPattern = '|'.join(map(re.escape, delimiters))\n",
    "\n",
    "#reads line by line\n",
    "with open(fileName, \"r\") as f: \n",
    "    for index, line in enumerate(f, start = 0):\n",
    "#        junk = line.strip().split(delimiters)\n",
    "        junk =(re.split(regexPattern, line))\n",
    "        result.append(junk)\n",
    "        colCount = len(junk)\n",
    "\n",
    "# #for if/loop counts delimiters\n",
    "#         if index== 0:\n",
    "#             for delimiter in delimiters:\n",
    "#                 if delimiter in line:\n",
    "#                     colCount += line.count(delimiter)\n",
    "\n",
    "print('Based on the number of delimiters. There should be ' + str(colCount) + ' columns')       \n",
    "print(\"Date columns should be formatted as YYYY-MM-DD, else it will be declared as a VARCHAR\")  \n",
    "\n",
    "#formatting for SQL queries                \n",
    "def formatTable(string1):\n",
    "    return str(string1).replace('.txt', '').replace(' ','_').replace('-','_').replace(':', '_').replace('.', '_')\n",
    "\n",
    "# def formatTable(string1):\n",
    "#     str(string1).replace(' ','_').replace('-','_').replace(':', '_').replace('.', '_')\n",
    "\n",
    "def listToStringWithoutBrackets(list1):\n",
    "    return str(list1).replace('[','(').replace(']',')').replace('((', '(').replace('))',')').replace(r'\\n', '')\n",
    "\n",
    "def listToStringWithoutBracketsCommas(list1):\n",
    "    return str(list1).replace('\\'','').replace('[','(').replace(']',')').replace('((', '(').replace('))',')').replace(r'\\n', '')\n",
    "\n",
    "# def listToStringWithoutBrackets(list1):\n",
    "#     str(list1).replace('[','(').replace(']',')').replace('((', '(').replace('))',')').replace(r'\\n', '')\n",
    "#     str(list1).replace('\\'','').replace('[','(').replace(']',')').replace('((', '(').replace('))',')').replace(r'\\n', '')\n",
    "#     return list1\n",
    "\n",
    "#variables to hold formatted text\n",
    "result2 = listToStringWithoutBrackets(result[1:])\n",
    "colNames = listToStringWithoutBracketsCommas(result[0:1])\n",
    "tableName = formatTable(tableName)\n",
    "print(tableName)"
   ]
  },
  {
   "cell_type": "code",
   "execution_count": 163,
   "metadata": {},
   "outputs": [],
   "source": [
    "#tests columns data type, returns either varchar, int, float, or date data types\n",
    "def grabDataType(str1, list1 = []):\n",
    "    val = 0\n",
    "    var = \"VARCHAR(50)\"\n",
    "    try:\n",
    "        datetime.datetime.strptime(list1[1][i], '%Y-%m-%d')\n",
    "        var = (\"DATE\")\n",
    "    except ValueError:\n",
    "#         print(\"Column \" + str(i +1) + \" is not a date or incorrect data format, should be YYYY-MM-DD\")  \n",
    "        var = \"VARCHAR(50)\"  \n",
    "    try:\n",
    "        val = float(list1[1][i])\n",
    "        var = \"FLOAT(20, 2)\"\n",
    "    except ValueError:\n",
    "        pass\n",
    "#         print(\"Column \"+ str(i + 1) + \" is not a float!\")\n",
    "    else:\n",
    "        try:\n",
    "            val = int(list1[1][i])\n",
    "            var = \"INT\"\n",
    "        except ValueError:\n",
    "                pass\n",
    "#             print(\"Column \"+ str(i + 1) + \" is not a float!\")\n",
    "    return (var)"
   ]
  },
  {
   "cell_type": "code",
   "execution_count": 164,
   "metadata": {},
   "outputs": [
    {
     "name": "stdout",
     "output_type": "stream",
     "text": [
      "Column 1 is data type VARCHAR(50) based on the first row of data\n",
      "\n",
      "Column 2 is data type VARCHAR(50) based on the first row of data\n",
      "\n",
      "Column 3 is data type INT based on the first row of data\n",
      "\n",
      "Column 4 is data type DATE based on the first row of data\n",
      "\n",
      "Column names with data types:\n",
      "['empName VARCHAR(50) Primary Key', 'title VARCHAR(50)', 'age INT', 'datePublished DATE']\n"
     ]
    }
   ],
   "source": [
    "#enumerating for loop, goes over the list we made\n",
    "for i, num in enumerate(result[0], start = 0):\n",
    "    \n",
    "    var = grabDataType(result[1][i], result)\n",
    "    print(\"Column \" + str(i + 1) + \" is data type \" + var + \" based on the first row of data\\n\")\n",
    "    if(i == 0):\n",
    "        result[0][0] = (result[0][0] + ' ' + var + \" Primary Key\")\n",
    "    if( i > 0):\n",
    "        result[0][i] = (result[0][i] + ' ' + var )\n",
    "\n",
    "print(\"Column names with data types:\")\n",
    "print(result[0])"
   ]
  },
  {
   "cell_type": "code",
   "execution_count": 165,
   "metadata": {
    "collapsed": true
   },
   "outputs": [],
   "source": [
    "#Columns with variables used to create table\n",
    "colNamesWithVar = listToStringWithoutBracketsCommas(result[0])"
   ]
  },
  {
   "cell_type": "code",
   "execution_count": 166,
   "metadata": {},
   "outputs": [
    {
     "name": "stdout",
     "output_type": "stream",
     "text": [
      "CREATE table inputTwo2017_Jul_26_14_45_52 (empName VARCHAR(50) Primary Key, title VARCHAR(50), age INT, datePublished DATE);\n",
      "\n",
      "REPLACE INTO inputTwo2017_Jul_26_14_45_52 (empName, title, age, datePublished) VALUES ('Liz', 'Punk', '21', '1995-02-14'), ('Mat', 'FrisbeeMan', '211', '1995-02-15'), ('Scott', 'Scooter', '21', '1995-02-16'), ('Manoj', 'Data Analyst', '21', '1995-02-17'), ('Allan', '1035B', '22', '1995-02-18');\n"
     ]
    }
   ],
   "source": [
    "#SQL statements. Change depending on the SQL query syntax.\n",
    "#Currently set up for MYSQL\n",
    "\n",
    "#Creating table\n",
    "#cur.execute('DROP TABLE IF EXISTS \\'' + tableName + '\\';')\n",
    "print('CREATE table '+ tableName + ' ' + colNamesWithVar + ';\\n')\n",
    "cur.execute('CREATE table '+ tableName + ' ' + colNamesWithVar + ';')\n",
    "cur.commit()\n",
    "\n",
    "#Inserting into File\n",
    "#Use Replace into if expecting duplicates\n",
    "print('REPLACE INTO ' + tableName + ' '+ colNames + ' VALUES ' + result2 + ';')\n",
    "cur.execute('REPLACE INTO ' + tableName + ' '+ colNames + ' VALUES ' + result2 + ';')\n",
    "\n",
    "#Use INSERT if not expecting duplicates\n",
    "#cur.execute('INSERT INTO ' + tableName + '+ colNames + ' VALUES ' + result2 + ';')\n",
    "\n",
    "#Must commit all data being altered\n",
    "cur.commit()"
   ]
  },
  {
   "cell_type": "code",
   "execution_count": 167,
   "metadata": {
    "collapsed": true
   },
   "outputs": [],
   "source": [
    "#Close Connection\n",
    "con.close() "
   ]
  }
 ],
 "metadata": {
  "kernelspec": {
   "display_name": "Python 3",
   "language": "python",
   "name": "python3"
  },
  "language_info": {
   "codemirror_mode": {
    "name": "ipython",
    "version": 3
   },
   "file_extension": ".py",
   "mimetype": "text/x-python",
   "name": "python",
   "nbconvert_exporter": "python",
   "pygments_lexer": "ipython3",
   "version": "3.6.1"
  }
 },
 "nbformat": 4,
 "nbformat_minor": 2
}
