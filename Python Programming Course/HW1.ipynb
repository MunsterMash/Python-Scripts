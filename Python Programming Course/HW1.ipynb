{
 "cells": [
  {
   "cell_type": "code",
   "execution_count": 3,
   "metadata": {
    "collapsed": true
   },
   "outputs": [],
   "source": [
    "import numpy as np\n",
    "from numpy.random import randn"
   ]
  },
  {
   "cell_type": "code",
   "execution_count": 4,
   "metadata": {
    "collapsed": true
   },
   "outputs": [],
   "source": [
    "mean =0\n",
    "stdev = 1"
   ]
  },
  {
   "cell_type": "code",
   "execution_count": 66,
   "metadata": {},
   "outputs": [
    {
     "name": "stdout",
     "output_type": "stream",
     "text": [
      "Total:  100\n",
      "Numbers within standard deviation 67\n",
      "Percentage within standard deviation 0.67\n"
     ]
    }
   ],
   "source": [
    "total = 0\n",
    "within_stdev = 0\n",
    "for n in randn(100):\n",
    "    total += 1\n",
    "\n",
    "    x = None\n",
    "    x = n\n",
    "    if x<(mean+stdev)and x>(mean-stdev):\n",
    "        within_stdev += 1\n",
    "print (\"Total: \", total)\n",
    "print (\"Numbers within standard deviation\", within_stdev)\n",
    "print(\"Percentage within standard deviation\", within_stdev/total)"
   ]
  },
  {
   "cell_type": "code",
   "execution_count": 51,
   "metadata": {},
   "outputs": [
    {
     "name": "stdout",
     "output_type": "stream",
     "text": [
      "1\n",
      "2\n",
      "3\n",
      "4\n",
      "5\n",
      "6\n",
      "7\n",
      "Total:  10\n",
      "Numbers within standard deviation 7\n",
      "Percentage within standard deviation 0.7\n"
     ]
    }
   ],
   "source": [
    "total = 0\n",
    "within_stdev = 0\n",
    "while total <10:\n",
    "    total += 1\n",
    "\n",
    "    x = None\n",
    "    x = randn()\n",
    "    if x<(mean+stdev)and x>(mean-stdev):\n",
    "        within_stdev += 1\n",
    "        print(within_stdev)\n",
    "print (\"Total: \", total)\n",
    "print (\"Numbers within standard deviation\", within_stdev)\n",
    "print(\"Percentage within standard deviation\", within_stdev/total)"
   ]
  },
  {
   "cell_type": "code",
   "execution_count": 55,
   "metadata": {},
   "outputs": [
    {
     "name": "stdout",
     "output_type": "stream",
     "text": [
      "Total:  100\n",
      "Numbers within standard deviation 64\n",
      "Percentage within standard deviation 0.64\n"
     ]
    }
   ],
   "source": [
    "total = 0\n",
    "within_stdev = 0\n",
    "while total <100:\n",
    "    total += 1\n",
    "\n",
    "    x = None\n",
    "    x = randn()\n",
    "    if x<(mean+stdev)and x>(mean-stdev):\n",
    "        within_stdev += 1\n",
    "print (\"Total: \", total)\n",
    "print (\"Numbers within standard deviation\", within_stdev)\n",
    "print(\"Percentage within standard deviation\", within_stdev/total)"
   ]
  },
  {
   "cell_type": "code",
   "execution_count": 57,
   "metadata": {},
   "outputs": [
    {
     "name": "stdout",
     "output_type": "stream",
     "text": [
      "Total:  1000\n",
      "Numbers within standard deviation 682\n",
      "Percentage within standard deviation 0.682\n"
     ]
    }
   ],
   "source": [
    "total = 0\n",
    "within_stdev = 0\n",
    "while total <1000:\n",
    "    total += 1\n",
    "\n",
    "    x = None\n",
    "    x = randn()\n",
    "    if x<(mean+stdev)and x>(mean-stdev):\n",
    "        within_stdev += 1\n",
    "print (\"Total: \", total)\n",
    "print (\"Numbers within standard deviation\", within_stdev)\n",
    "print(\"Percentage within standard deviation\", within_stdev/total)"
   ]
  }
 ],
 "metadata": {
  "kernelspec": {
   "display_name": "Python 3",
   "language": "python",
   "name": "python3"
  },
  "language_info": {
   "codemirror_mode": {
    "name": "ipython",
    "version": 3
   },
   "file_extension": ".py",
   "mimetype": "text/x-python",
   "name": "python",
   "nbconvert_exporter": "python",
   "pygments_lexer": "ipython3",
   "version": "3.6.1"
  }
 },
 "nbformat": 4,
 "nbformat_minor": 2
}
