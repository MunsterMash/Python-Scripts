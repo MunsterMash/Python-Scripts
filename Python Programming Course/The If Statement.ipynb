{
 "cells": [
  {
   "cell_type": "code",
   "execution_count": 1,
   "metadata": {
    "collapsed": true
   },
   "outputs": [],
   "source": [
    "#--- -2 --- -1 --- 0 --- 1 --- 2 ---"
   ]
  },
  {
   "cell_type": "code",
   "execution_count": 2,
   "metadata": {
    "collapsed": true
   },
   "outputs": [],
   "source": [
    "import numpy as np\n",
    "from numpy.random import randn"
   ]
  },
  {
   "cell_type": "code",
   "execution_count": 16,
   "metadata": {},
   "outputs": [
    {
     "data": {
      "text/plain": [
       "0.4986644869145065"
      ]
     },
     "execution_count": 16,
     "metadata": {},
     "output_type": "execute_result"
    }
   ],
   "source": [
    "randn()"
   ]
  },
  {
   "cell_type": "code",
   "execution_count": 26,
   "metadata": {},
   "outputs": [
    {
     "name": "stdout",
     "output_type": "stream",
     "text": [
      "0.7374897704755417\n",
      "None\n"
     ]
    }
   ],
   "source": [
    "#--- -2 --- -1 --- 0 --- 1 --- 2 ---\n",
    "x = randn()\n",
    "answer = None\n",
    "if x >1:\n",
    "    answer = \"Greater than 1\"\n",
    "    \n",
    "print(x)\n",
    "print(answer)"
   ]
  },
  {
   "cell_type": "code",
   "execution_count": 69,
   "metadata": {},
   "outputs": [
    {
     "name": "stdout",
     "output_type": "stream",
     "text": [
      "1.4925173348563006\n",
      "Greater than 1\n"
     ]
    }
   ],
   "source": [
    "#--- -2 --- -1 --- 0 --- 1 --- 2 ---\n",
    "x = randn()\n",
    "answer = None\n",
    "if x >1:\n",
    "    answer = \"Greater than 1\"\n",
    "else:\n",
    "    answer = \"Less than 1\"\n",
    "print(x)\n",
    "print(answer)"
   ]
  },
  {
   "cell_type": "code",
   "execution_count": 99,
   "metadata": {},
   "outputs": [
    {
     "name": "stdout",
     "output_type": "stream",
     "text": [
      "-0.2048739018789879\n",
      "Between -1 and 1\n"
     ]
    }
   ],
   "source": [
    "#--- -2 --- -1 --- 0 --- 1 --- 2 ---\n",
    "#Nested Statements\n",
    "x = randn()\n",
    "answer = None\n",
    "if x > 1:\n",
    "    answer = \"Greater than 1\"\n",
    "else:\n",
    "    if x>= -1:\n",
    "        answer = \"Between -1 and 1\"\n",
    "    else: \n",
    "        answer = \"less than -1\"\n",
    "print(x)\n",
    "print(answer)"
   ]
  },
  {
   "cell_type": "code",
   "execution_count": 100,
   "metadata": {},
   "outputs": [
    {
     "name": "stdout",
     "output_type": "stream",
     "text": [
      "0.3833281801978373\n",
      "Between -1 and 1\n"
     ]
    }
   ],
   "source": [
    "#--- -2 --- -1 --- 0 --- 1 --- 2 ---\n",
    "#Chained statements\n",
    "x = randn()\n",
    "answer = None\n",
    "if x > 1:\n",
    "    answer = \"Greater than 1\"\n",
    "elif x>= -1:\n",
    "    answer = \"Between -1 and 1\"\n",
    "else: \n",
    "    answer = \"less than -1\"\n",
    "print(x)\n",
    "print(answer)"
   ]
  }
 ],
 "metadata": {
  "kernelspec": {
   "display_name": "Python 3",
   "language": "python",
   "name": "python3"
  },
  "language_info": {
   "codemirror_mode": {
    "name": "ipython",
    "version": 3
   },
   "file_extension": ".py",
   "mimetype": "text/x-python",
   "name": "python",
   "nbconvert_exporter": "python",
   "pygments_lexer": "ipython3",
   "version": "3.6.1"
  }
 },
 "nbformat": 4,
 "nbformat_minor": 2
}
