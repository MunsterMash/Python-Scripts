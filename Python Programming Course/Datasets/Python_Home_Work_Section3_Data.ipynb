{
 "cells": [
  {
   "cell_type": "code",
   "execution_count": 1,
   "metadata": {
    "collapsed": true
   },
   "outputs": [],
   "source": [
    "#Data \n",
    "revenue = [14574.49, 7606.46, 8611.41, 9175.41, 8058.65, 8105.44, 11496.28, 9766.09, 10305.32, 14379.96, 10713.97, 15433.50]\n",
    "expenses = [12051.82, 5695.07, 12319.20, 12089.72, 8658.57, 840.20, 3285.73, 5821.12, 6976.93, 16618.61, 10054.37, 3803.96]"
   ]
  },
  {
   "cell_type": "code",
   "execution_count": 4,
   "metadata": {},
   "outputs": [
    {
     "data": {
      "text/plain": [
       "[2522.67,\n",
       " 1911.3900000000003,\n",
       " -3707.790000000001,\n",
       " -2914.3099999999995,\n",
       " -599.9200000000001,\n",
       " 7265.24,\n",
       " 8210.550000000001,\n",
       " 3944.9700000000003,\n",
       " 3328.3899999999994,\n",
       " -2238.6500000000015,\n",
       " 659.5999999999985,\n",
       " 11629.54]"
      ]
     },
     "execution_count": 4,
     "metadata": {},
     "output_type": "execute_result"
    }
   ],
   "source": [
    "#profit\n",
    "ab =[]\n",
    "\n",
    "for i in range(0, len(revenue)):\n",
    "    ab.append(revenue[i]-expenses[i])\n",
    "ab"
   ]
  },
  {
   "cell_type": "code",
   "execution_count": 5,
   "metadata": {},
   "outputs": [
    {
     "data": {
      "text/plain": [
       "[756.8,\n",
       " 573.42,\n",
       " -1112.34,\n",
       " -874.29,\n",
       " -179.98,\n",
       " 2179.57,\n",
       " 2463.17,\n",
       " 1183.49,\n",
       " 998.52,\n",
       " -671.6,\n",
       " 197.88,\n",
       " 3488.86]"
      ]
     },
     "execution_count": 5,
     "metadata": {},
     "output_type": "execute_result"
    }
   ],
   "source": [
    "tax = [round(i * 0.30, 2) for i in ab]\n",
    "tax"
   ]
  },
  {
   "cell_type": "code",
   "execution_count": 15,
   "metadata": {},
   "outputs": [
    {
     "data": {
      "text/plain": [
       "[1765.8700000000001,\n",
       " 1337.9700000000003,\n",
       " -2595.4500000000007,\n",
       " -2040.0199999999995,\n",
       " -419.94000000000005,\n",
       " 5085.67,\n",
       " 5747.380000000001,\n",
       " 2761.4800000000005,\n",
       " 2329.8699999999994,\n",
       " -1567.0500000000015,\n",
       " 461.71999999999855,\n",
       " 8140.68]"
      ]
     },
     "execution_count": 15,
     "metadata": {},
     "output_type": "execute_result"
    }
   ],
   "source": [
    "after_tax = []\n",
    "for i in range(0, len(ab)):\n",
    "    after_tax.append(ab[i] - tax[i])\n",
    "after_tax"
   ]
  },
  {
   "cell_type": "code",
   "execution_count": 24,
   "metadata": {},
   "outputs": [
    {
     "data": {
      "text/plain": [
       "[70.0, 70.0, 70.0, 70.0, 70.0, 70.0, 70.0, 70.0, 70.0, 70.0, 70.0, 70.0]"
      ]
     },
     "execution_count": 24,
     "metadata": {},
     "output_type": "execute_result"
    }
   ],
   "source": [
    "#Equals to profit margin to profit after tax divided by rev\n",
    "profit_margin = []\n",
    "for i in range(0, len(ab)):\n",
    "    profit_margin.append(after_tax[i]/ab[i])\n",
    "\n",
    "profit_margin =[round(i *100, 2) for i in profit_margin]\n",
    "\n",
    "profit_margin"
   ]
  },
  {
   "cell_type": "code",
   "execution_count": 33,
   "metadata": {},
   "outputs": [
    {
     "data": {
      "text/plain": [
       "1750.6816666666666"
      ]
     },
     "execution_count": 33,
     "metadata": {},
     "output_type": "execute_result"
    }
   ],
   "source": [
    "#Calculate Mean after tax\n",
    "mean = 0\n",
    "total = 0\n",
    "for i in range(0,len(after_tax)):\n",
    "    total += after_tax[i]\n",
    "mean = total/len(after_tax)\n",
    "mean\n"
   ]
  },
  {
   "cell_type": "code",
   "execution_count": 34,
   "metadata": {},
   "outputs": [
    {
     "data": {
      "text/plain": [
       "[0, 5, 6, 7, 8, 11]"
      ]
     },
     "execution_count": 34,
     "metadata": {},
     "output_type": "execute_result"
    }
   ],
   "source": [
    "#Above mean after tax months\n",
    "good_months = []\n",
    "for i in range(0, len(after_tax)):\n",
    "    if after_tax[i] >= mean:\n",
    "        good_months.append(i)\n",
    "good_months\n"
   ]
  },
  {
   "cell_type": "code",
   "execution_count": 44,
   "metadata": {},
   "outputs": [
    {
     "data": {
      "text/plain": [
       "[True, False, False, False, False, True, True, True, True, False, False, True]"
      ]
     },
     "execution_count": 44,
     "metadata": {},
     "output_type": "execute_result"
    }
   ],
   "source": [
    "#Good months the Homework's way\n",
    "above_mean = []\n",
    "for i in range(0, len(after_tax)):\n",
    "    above_mean.append(after_tax[i] >= mean)\n",
    "above_mean"
   ]
  },
  {
   "cell_type": "code",
   "execution_count": 45,
   "metadata": {},
   "outputs": [
    {
     "data": {
      "text/plain": [
       "[False, True, True, True, True, False, False, False, False, True, True, False]"
      ]
     },
     "execution_count": 45,
     "metadata": {},
     "output_type": "execute_result"
    }
   ],
   "source": [
    "#Below mean after tax months\n",
    "bad_months = []\n",
    "for i in range(0, len(after_tax)):\n",
    "        bad_months.append(not(above_mean[i]))\n",
    "bad_months"
   ]
  },
  {
   "cell_type": "code",
   "execution_count": 48,
   "metadata": {},
   "outputs": [
    {
     "data": {
      "text/plain": [
       "[False,\n",
       " False,\n",
       " False,\n",
       " False,\n",
       " False,\n",
       " False,\n",
       " False,\n",
       " False,\n",
       " False,\n",
       " False,\n",
       " False,\n",
       " True]"
      ]
     },
     "execution_count": 48,
     "metadata": {},
     "output_type": "execute_result"
    }
   ],
   "source": [
    "#Maximum profit/Best month\n",
    "best_month = []\n",
    "for i in range(0, len(after_tax)):\n",
    "    best_month.append(after_tax[i]==max(after_tax))\n",
    "best_month"
   ]
  },
  {
   "cell_type": "code",
   "execution_count": 55,
   "metadata": {},
   "outputs": [
    {
     "data": {
      "text/plain": [
       "[False,\n",
       " False,\n",
       " True,\n",
       " False,\n",
       " False,\n",
       " False,\n",
       " False,\n",
       " False,\n",
       " False,\n",
       " False,\n",
       " False,\n",
       " False]"
      ]
     },
     "execution_count": 55,
     "metadata": {},
     "output_type": "execute_result"
    }
   ],
   "source": [
    "#Worst Month\n",
    "worst_month = []\n",
    "for i in range(0, len(after_tax)):\n",
    "    worst_month.append(after_tax[i]==min(after_tax))\n",
    "worst_month"
   ]
  },
  {
   "cell_type": "code",
   "execution_count": 58,
   "metadata": {},
   "outputs": [],
   "source": [
    "#Convert to 1000s\n",
    "revenue1k = [round(i, -3) for i in revenue]\n",
    "expenses1k = [round(i, -3) for i in expenses]\n",
    "profit1k = [round(i, -3) for i in ab]\n",
    "after_tax1k = [round(i, 0) for i in after_tax]\n",
    "\n",
    "revenue1k = [int(i) for i in revenue1k]\n",
    "expenses1k = [int(i) for i in expenses1k]\n",
    "profit1k = [int(i) for i in profit1k]\n",
    "after_tax1k = [int(i) for i in after_tax1k]"
   ]
  },
  {
   "cell_type": "code",
   "execution_count": 64,
   "metadata": {},
   "outputs": [
    {
     "name": "stdout",
     "output_type": "stream",
     "text": [
      "Revenue: \n",
      "[15000, 8000, 9000, 9000, 8000, 8000, 11000, 10000, 10000, 14000, 11000, 15000]\n",
      "Expenses: \n",
      "[12000, 6000, 12000, 12000, 9000, 1000, 3000, 6000, 7000, 17000, 10000, 4000]\n",
      "Profit: \n",
      "[3000, 2000, -4000, -3000, -1000, 7000, 8000, 4000, 3000, -2000, 1000, 12000]\n",
      "Profit after tax: \n",
      "[1766, 1338, -2595, -2040, -420, 5086, 5747, 2761, 2330, -1567, 462, 8141]\n",
      "Profit margin: \n",
      "[70.0, 70.0, 70.0, 70.0, 70.0, 70.0, 70.0, 70.0, 70.0, 70.0, 70.0, 70.0]\n",
      "Good months: \n",
      "[0, 5, 6, 7, 8, 11]\n",
      "Bad Month: \n",
      "[False, True, True, True, True, False, False, False, False, True, True, False]\n",
      "Best Month: \n",
      "[False, False, False, False, False, False, False, False, False, False, False, True]\n",
      "Worst Month: \n",
      "[False, False, True, False, False, False, False, False, False, False, False, False]\n"
     ]
    }
   ],
   "source": [
    "#print results\n",
    "print(\"Revenue: \")\n",
    "print(revenue1k)\n",
    "print(\"Expenses: \")\n",
    "print(expenses1k)\n",
    "print(\"Profit: \")\n",
    "print(profit1k)\n",
    "print(\"Profit after tax: \")\n",
    "print(after_tax1k)\n",
    "print(\"Profit margin: \")\n",
    "print(profit_margin)\n",
    "print(\"Good months: \")\n",
    "print(good_months)\n",
    "print(\"Bad Month: \")\n",
    "print(bad_months)\n",
    "print(\"Best Month: \")\n",
    "print(best_month)\n",
    "print(\"Worst Month: \")\n",
    "print(worst_month)"
   ]
  }
 ],
 "metadata": {
  "kernelspec": {
   "display_name": "Python 3",
   "language": "python",
   "name": "python3"
  },
  "language_info": {
   "codemirror_mode": {
    "name": "ipython",
    "version": 3
   },
   "file_extension": ".py",
   "mimetype": "text/x-python",
   "name": "python",
   "nbconvert_exporter": "python",
   "pygments_lexer": "ipython3",
   "version": "3.6.1"
  }
 },
 "nbformat": 4,
 "nbformat_minor": 1
}
