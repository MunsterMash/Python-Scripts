{
 "cells": [
  {
   "cell_type": "code",
   "execution_count": 14,
   "metadata": {},
   "outputs": [
    {
     "name": "stdout",
     "output_type": "stream",
     "text": [
      "Enter input file name and file path if located in different folder: ~\n",
      "Enter delimiters one at a time. Enter 'done' when finished. Example:('!', '~', '|'): !\n",
      "Enter delimiters one at a time. Enter 'done' when finished. Example:('!', '~', '|'): @\n",
      "Enter delimiters one at a time. Enter 'done' when finished. Example:('!', '~', '|'): done\n",
      "\n",
      "Can be located in Control Panel -> System and Secruity -> Admin Tools on Windows\n",
      "Enter database drivers: drive\n",
      "Enter server name of data source: source\n",
      "Enter database name: name\n",
      "Enter port number: num\n",
      "Enter UID: uid\n",
      "Enter password: pwd\n",
      "DRIVER = {drive}; Server = source; PORT=num; DATABASE = name; UID=uid; PASSWORD =pwd\n",
      "['!', '@']\n"
     ]
    }
   ],
   "source": [
    "input_fileName = input(\"Enter input file name and file path if located in different folder: \")\n",
    "\n",
    "inputDelimiter = ''\n",
    "delimiters = []\n",
    "while inputDelimiter != 'done':\n",
    "    inputDelimiter =input(\"Enter delimiters one at a time. Enter 'done' when finished. Example:('!', '~', '|'): \")\n",
    "    if inputDelimiter == 'done':\n",
    "        break\n",
    "    delimiters.append(inputDelimiter)\n",
    "\n",
    "print(\"\\nCan be located in Control Panel -> System and Secruity -> Admin Tools on Windows\")\n",
    "inputDriver = input(\"Enter database drivers: \")\n",
    "inputServer = input(\"Enter server name of data source: \")\n",
    "inputDBname = input(\"Enter database name: \")\n",
    "inputPort = input(\"Enter port number: \")\n",
    "inputUID = input(\"Enter UID: \")\n",
    "inputPWD = input(\"Enter password: \")\n",
    "con = py.connect('DRIVER = {' + inputDriver + '}; Server=' + inputServer + '; PORT=' + inputPort +'; DATABASE= ' + inputDBname + '; UID='+ inputUID + '; PASSWORD =' + inputPWD)\n",
    "print(delimiters)\n"
   ]
  }
 ],
 "metadata": {
  "kernelspec": {
   "display_name": "Python 3",
   "language": "python",
   "name": "python3"
  },
  "language_info": {
   "codemirror_mode": {
    "name": "ipython",
    "version": 3
   },
   "file_extension": ".py",
   "mimetype": "text/x-python",
   "name": "python",
   "nbconvert_exporter": "python",
   "pygments_lexer": "ipython3",
   "version": "3.6.1"
  }
 },
 "nbformat": 4,
 "nbformat_minor": 2
}
