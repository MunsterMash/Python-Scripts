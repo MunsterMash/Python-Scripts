{
 "cells": [
  {
   "cell_type": "code",
   "execution_count": 1,
   "metadata": {
    "collapsed": true
   },
   "outputs": [],
   "source": [
    "# import requests\n",
    "# from ntlm import HTTPNtlmAuthHandler\n",
    "# from requests_ntlm import HttpNtlmAuth, HttpNtlmSspiAuth\n",
    "\n",
    "# from math import sin, pi\n",
    "# from bokeh.plotting import line\n",
    "# from bokeh.resources import CDN\n",
    "# from bokeh.embed import file_html\n",
    "\n",
    "# x = range(100)\n",
    "# y = [sin(2.*pi*(1./25.)*x_) for x_ in x]\n",
    "# plot = line(x, y, color=\"red\")\n",
    "# html = file_html(plot, CDN, \"Sine\")"
   ]
  },
  {
   "cell_type": "code",
   "execution_count": 43,
   "metadata": {},
   "outputs": [
    {
     "data": {
      "text/plain": [
       "['Matrix', 'Competency Key', 'PivotTable', 'Lists', 'Competencies']"
      ]
     },
     "execution_count": 43,
     "metadata": {},
     "output_type": "execute_result"
    }
   ],
   "source": [
    "import pandas as pd\n",
    "import bokeh as bk\n",
    "import matplotlib as mpl\n",
    "import datetime\n",
    "import bokeh.plotting as bp\n",
    "import bokeh.layouts\n",
    "from bokeh.resources import CDN\n",
    "from bokeh.embed import file_html\n",
    "from bokeh.layouts import widgetbox, row\n",
    "from bokeh.models.widgets import Dropdown, DataTable, TableColumn, RadioButtonGroup\n",
    "\n",
    "\n",
    "# from bokeh.io import figure output_file, show\n",
    "from bokeh.plotting import figure, show, output_file, curdoc\n",
    "from bokeh.models import HoverTool, PanTool, WheelZoomTool, ResetTool, ColumnDataSource, SaveTool\n",
    "\n",
    "fileName = 'Competency Matrix v4 - JaxAlpha.xlsx'\n",
    "x1 = pd.ExcelFile(fileName)\n",
    "x1.sheet_names"
   ]
  },
  {
   "cell_type": "code",
   "execution_count": 3,
   "metadata": {
    "collapsed": true
   },
   "outputs": [],
   "source": [
    "df = x1.parse(\"Matrix\")\n",
    "\n",
    "# movies.Film = movies.Film.astype('category')\n",
    "# df['ETL']"
   ]
  },
  {
   "cell_type": "code",
   "execution_count": 4,
   "metadata": {
    "collapsed": true
   },
   "outputs": [],
   "source": [
    "df.columns = [c.replace(' ', '').replace('(Last,First)', '') for c in df.columns]\n"
   ]
  },
  {
   "cell_type": "code",
   "execution_count": 45,
   "metadata": {},
   "outputs": [],
   "source": [
    "now = datetime.datetime.now()\n",
    "curDate = datetime.datetime.date(datetime.datetime.now())\n",
    "output_file('matrix'+ str(curDate) +'.html', title=\"Competency Matrix\")"
   ]
  },
  {
   "cell_type": "code",
   "execution_count": 6,
   "metadata": {
    "collapsed": true
   },
   "outputs": [],
   "source": [
    "myData = {}\n",
    "columnName = 'ETL'\n",
    "myData [columnName] = columnName\n",
    "# df.loc[(df.columnName) == 'Flag', columnName] = -1\n",
    "df.loc[(df[columnName]) == 'Flag', columnName] = -1\n",
    "# df"
   ]
  },
  {
   "cell_type": "code",
   "execution_count": 7,
   "metadata": {
    "collapsed": true
   },
   "outputs": [],
   "source": [
    "df2 = df[df.Location ==\"Alpharetta\"]\n",
    "# df2"
   ]
  },
  {
   "cell_type": "code",
   "execution_count": 8,
   "metadata": {
    "collapsed": true
   },
   "outputs": [],
   "source": [
    "df1 = df[df.Location =='Jacksonville']\n",
    "# df1"
   ]
  },
  {
   "cell_type": "code",
   "execution_count": 9,
   "metadata": {
    "collapsed": true
   },
   "outputs": [],
   "source": [
    "mySource = ColumnDataSource(df)\n",
    "mySource1 = ColumnDataSource(df1)\n",
    "mySource2 = ColumnDataSource(df2)"
   ]
  },
  {
   "cell_type": "code",
   "execution_count": 10,
   "metadata": {
    "collapsed": true
   },
   "outputs": [],
   "source": [
    "Names = df['Name'].values.tolist()"
   ]
  },
  {
   "cell_type": "code",
   "execution_count": null,
   "metadata": {
    "collapsed": true
   },
   "outputs": [],
   "source": [
    "\n"
   ]
  },
  {
   "cell_type": "code",
   "execution_count": 13,
   "metadata": {},
   "outputs": [],
   "source": [
    "# menu = [(\"Item 1\", \"item_1\"), (\"Item 2\", \"item_2\"), None, (\"Item 3\", \"item_3\")]\n",
    "menu =[]\n",
    "for i, column in enumerate(df, start =0):\n",
    "    if i >=7:\n",
    "        item = (column, column)\n",
    "        menu.append(item)\n",
    "\n",
    "#dropdown button\n",
    "# from bokeh.models.widgets import Dropdown\n",
    "# from bokeh.io import output_file, show, vform\n",
    "\n",
    "output_file('matrix'+ str(curDate) +'.html')\n",
    "\n",
    "# menu = [(\"Item 1\", \"item_1\"), (\"Item 2\", \"item_2\"), None, (\"Item 3\", \"item_3\")]\n",
    "dropdown = Dropdown(label=\"Select skill/tool\", button_type=\"warning\", menu=menu)\n",
    "# callback.args[\"category\"] = dropdown"
   ]
  },
  {
   "cell_type": "code",
   "execution_count": 31,
   "metadata": {},
   "outputs": [],
   "source": [
    "columns = [\n",
    "        TableColumn(field=\"Name\", title=\"Name\"),\n",
    "        TableColumn(field=\"ETL\", title=\"ETL\"),\n",
    "        TableColumn(field=\"Location\", title =\"Location\"),\n",
    "    ]\n",
    "data_table = DataTable(source=mySource, columns=columns, width=400, height=500)\n",
    "button_group = RadioButtonGroup(labels=[\"All\", \"Engaged\", \"Bench\"], active=0)"
   ]
  },
  {
   "cell_type": "code",
   "execution_count": 63,
   "metadata": {},
   "outputs": [],
   "source": [
    "#Scatter Plot\n",
    "from bokeh.charts import Scatter\n",
    "\n",
    "\n",
    "p = figure(title = \"Competency\", x_range = [-2, 5], y_range = Names, tools = \"pan, wheel_zoom, reset, save\", x_axis_label = columnName + \"(-1 means interested)\", y_axis_label = \"Names\")\n",
    "figure.sizing_mode = 'scale_both'\n",
    "\n",
    "#Output backend is in the latest bokeh/allows IE use. Need to update if throwing an error\n",
    "#Comment out for now\n",
    "p.output_backend = 'webgl'\n",
    "\n",
    "p.square(x =columnName,y = \"Name\", source = mySource1, color = 'red', fill_alpha=0.2, size=10, legend = 'Jacksonville')\n",
    "p.square(x =columnName ,y = \"Name\", source = mySource2, color = 'blue', fill_alpha=0.2, size=10, legend = 'Alpharetta')\n",
    "\n",
    "\n",
    "# p = Scatter(df, x='Name',y='ETL',marker='square')\n",
    "\n",
    "p.add_tools (HoverTool(tooltips=[\n",
    "    (\"Name\", \"$y\"),\n",
    "    (\"Skill Level\", \"$x{int}\"),\n",
    "    (\"Location\", \"@Location\"),\n",
    "    (\"Skill Level\", columnName),\n",
    "]))\n",
    "# row()\n",
    "# show(widgetbox(dropdown))\n",
    "# p.add_tools(\"pan, wheel_zoom, reset\")"
   ]
  },
  {
   "cell_type": "code",
   "execution_count": 64,
   "metadata": {
    "collapsed": true
   },
   "outputs": [],
   "source": [
    "#add datatable\n",
    "layout = row(p, (widgetbox(dropdown)))\n",
    "# show(layout)\n",
    "show(row(p, (widgetbox(dropdown, button_group, data_table))))"
   ]
  },
  {
   "cell_type": "code",
   "execution_count": null,
   "metadata": {
    "collapsed": true
   },
   "outputs": [],
   "source": []
  },
  {
   "cell_type": "code",
   "execution_count": null,
   "metadata": {
    "collapsed": true
   },
   "outputs": [],
   "source": []
  }
 ],
 "metadata": {
  "kernelspec": {
   "display_name": "Python 3",
   "language": "python",
   "name": "python3"
  },
  "language_info": {
   "codemirror_mode": {
    "name": "ipython",
    "version": 3
   },
   "file_extension": ".py",
   "mimetype": "text/x-python",
   "name": "python",
   "nbconvert_exporter": "python",
   "pygments_lexer": "ipython3",
   "version": "3.6.1"
  }
 },
 "nbformat": 4,
 "nbformat_minor": 2
}
