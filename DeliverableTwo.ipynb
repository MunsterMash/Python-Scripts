{
 "cells": [
  {
   "cell_type": "code",
   "execution_count": 22,
   "metadata": {},
   "outputs": [
    {
     "name": "stdout",
     "output_type": "stream",
     "text": [
      "(('Liz', 'Punk', '6ish'), ('Mat', 'FrisbeeMan', 'N/A'), ('Scott', 'Scooter', 'Unknown'), ('Manoj', 'Data Analyst', 'Unknown'), ('Allan', '1035B', '22'))\n",
      "(('Name', 'Title', 'Age'))\n"
     ]
    }
   ],
   "source": [
    "\n",
    "fileName ='inputOne.txt'\n",
    "delimiter = '~'\n",
    "nameOne = []\n",
    "#open('path to file)\n",
    "\n",
    "\n",
    "result = []\n",
    "with open(fileName, \"r\") as f: \n",
    "    for line in f: \n",
    "        result.append(line.strip().split(delimiter))\n",
    "\n",
    "def listToStringWithoutBrackets(list1):\n",
    "    return str(list1).replace('[','(').replace(']',')')\n",
    "result2 = listToStringWithoutBrackets(result[1:])\n",
    "print(result2)\n",
    "\n",
    "resultHeader = listToStringWithoutBrackets(result[0:1])\n",
    "print(resultHeader)"
   ]
  },
  {
   "cell_type": "code",
   "execution_count": null,
   "metadata": {
    "collapsed": true
   },
   "outputs": [],
   "source": []
  }
 ],
 "metadata": {
  "kernelspec": {
   "display_name": "Python 3",
   "language": "python",
   "name": "python3"
  },
  "language_info": {
   "codemirror_mode": {
    "name": "ipython",
    "version": 3
   },
   "file_extension": ".py",
   "mimetype": "text/x-python",
   "name": "python",
   "nbconvert_exporter": "python",
   "pygments_lexer": "ipython3",
   "version": "3.6.1"
  }
 },
 "nbformat": 4,
 "nbformat_minor": 2
}
