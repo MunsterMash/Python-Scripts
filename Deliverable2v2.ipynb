{
 "cells": [
  {
   "cell_type": "code",
   "execution_count": 9,
   "metadata": {},
   "outputs": [
    {
     "name": "stdout",
     "output_type": "stream",
     "text": [
      "('Liz', 'Punk', '6ish'), ('Mat', 'FrisbeeMan', 'NA'), ('Scott', 'Scooter', 'Unknown'), ('Manoj', 'Data Analyst', 'Unknown'), ('Allan', '1035B', '22')\n",
      "Allan 1035B 22\n",
      "Liz Punk 6ish\n",
      "Manoj Data Analyst Unknown\n",
      "Mat FrisbeeMan NA\n",
      "Scott Scooter Unknown\n"
     ]
    }
   ],
   "source": [
    "import pyodbc as pypyodbc\n",
    "\n",
    "con = pypyodbc.connect(\"DRIVER={MySQL ODBC 5.3 ANSI Driver}; SERVER=localhost; PORT=3306;DATABASE=sim; UID=root; PASSWORD=12345\") \n",
    "\n",
    "cur = con.cursor()\n",
    "\n",
    "fileName ='inputOne.txt'\n",
    "delimiter = '~'\n",
    "nameOne = []\n",
    "#open('path to file)\n",
    "\n",
    "\n",
    "result = []\n",
    "with open(fileName, \"r\") as f: \n",
    "    for index, line in enumerate(f, start = 0): \n",
    "        result.append(line.strip().split(delimiter))\n",
    "\n",
    "def listToStringWithoutBrackets(list1):\n",
    "    return str(list1).replace('[','(').replace(']',')').replace('((', '(').replace('))',')')\n",
    "\n",
    "def listToStringWithoutBracketsCommas(list1):\n",
    "    return str(list1).replace('\\'','').replace('[','(').replace(']',')').replace('((', '(').replace('))',')')\n",
    "\n",
    "result2 = listToStringWithoutBrackets(result[1:])\n",
    "resultHeader = listToStringWithoutBracketsCommas(result[0:1])\n",
    "#Inserting into File\n",
    "#Use Replace into if expecting duplicates\n",
    "print(result2[0:])\n",
    "\n",
    "cur.execute('REPLACE INTO employees '+ resultHeader + ' VALUES ' + result2 + ';')\n",
    "#Use INSERT if not expecting duplicates\n",
    "#cur.execute('INSERT INTO employees '+ resultHeader + ' VALUES ' + result2 + ';')\n",
    "\n",
    "#Must commit all data being altered\n",
    "cur.commit()\n",
    "\n",
    "#Test print\n",
    "cur.execute('Select * from employees;')\n",
    "rows = cur.fetchall()\n",
    "for row in rows:\n",
    "    print(row.EmpName, row.title, row.age)\n",
    "#Close Connection\n",
    "con.close() "
   ]
  },
  {
   "cell_type": "code",
   "execution_count": 2,
   "metadata": {},
   "outputs": [
    {
     "ename": "ProgrammingError",
     "evalue": "('42000', \"[42000] [MySQL][ODBC 5.3(a) Driver][mysqld-5.7.19-log]You have an error in your SQL syntax; check the manual that corresponds to your MySQL server version for the right syntax to use near 'VARCHAR(60) Primary Key|title VARCHAR(40), age VARCHAR(20)) VALUES ('Liz', 'Punk' at line 1 (1064) (SQLExecDirectW)\")",
     "output_type": "error",
     "traceback": [
      "\u001b[1;31m---------------------------------------------------------------------------\u001b[0m",
      "\u001b[1;31mProgrammingError\u001b[0m                          Traceback (most recent call last)",
      "\u001b[1;32m<ipython-input-2-b8a172cc3f22>\u001b[0m in \u001b[0;36m<module>\u001b[1;34m()\u001b[0m\n\u001b[1;32m----> 1\u001b[1;33m \u001b[0mcur\u001b[0m\u001b[1;33m.\u001b[0m\u001b[0mexecute\u001b[0m\u001b[1;33m(\u001b[0m\u001b[1;34m'REPLACE INTO employees '\u001b[0m\u001b[1;33m+\u001b[0m \u001b[0mresultHeader\u001b[0m \u001b[1;33m+\u001b[0m \u001b[1;34m' VALUES '\u001b[0m \u001b[1;33m+\u001b[0m \u001b[0mresult2\u001b[0m \u001b[1;33m+\u001b[0m \u001b[1;34m';'\u001b[0m\u001b[1;33m)\u001b[0m\u001b[1;33m\u001b[0m\u001b[0m\n\u001b[0m\u001b[0;32m      2\u001b[0m \u001b[1;31m#Use INSERT if not expecting duplicates\u001b[0m\u001b[1;33m\u001b[0m\u001b[1;33m\u001b[0m\u001b[0m\n\u001b[0;32m      3\u001b[0m \u001b[1;31m#cur.execute('INSERT INTO employees '+ resultHeader + ' VALUES ' + result2 + ';')\u001b[0m\u001b[1;33m\u001b[0m\u001b[1;33m\u001b[0m\u001b[0m\n\u001b[0;32m      4\u001b[0m \u001b[1;33m\u001b[0m\u001b[0m\n\u001b[0;32m      5\u001b[0m \u001b[1;31m#Must commit all data being altered\u001b[0m\u001b[1;33m\u001b[0m\u001b[1;33m\u001b[0m\u001b[0m\n",
      "\u001b[1;31mProgrammingError\u001b[0m: ('42000', \"[42000] [MySQL][ODBC 5.3(a) Driver][mysqld-5.7.19-log]You have an error in your SQL syntax; check the manual that corresponds to your MySQL server version for the right syntax to use near 'VARCHAR(60) Primary Key|title VARCHAR(40), age VARCHAR(20)) VALUES ('Liz', 'Punk' at line 1 (1064) (SQLExecDirectW)\")"
     ]
    }
   ],
   "source": []
  }
 ],
 "metadata": {
  "kernelspec": {
   "display_name": "Python 3",
   "language": "python",
   "name": "python3"
  },
  "language_info": {
   "codemirror_mode": {
    "name": "ipython",
    "version": 3
   },
   "file_extension": ".py",
   "mimetype": "text/x-python",
   "name": "python",
   "nbconvert_exporter": "python",
   "pygments_lexer": "ipython3",
   "version": "3.6.1"
  }
 },
 "nbformat": 4,
 "nbformat_minor": 2
}
