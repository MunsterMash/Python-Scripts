{
 "cells": [
  {
   "cell_type": "code",
   "execution_count": 4,
   "metadata": {},
   "outputs": [
    {
     "name": "stdout",
     "output_type": "stream",
     "text": [
      "['Name', 'Title', 'Age']\n",
      "['Liz', 'Punk', '6ish']\n",
      "['Mat', 'FrisbeeMan', 'N/A']\n",
      "['Scott', 'Scooter', 'Unknown']\n",
      "['Manoj', 'Data Analyst', 'Unknown']\n",
      "['Allan', '1035B', '22']\n"
     ]
    }
   ],
   "source": [
    "fileName ='inputOne.txt'\n",
    "delimiter = '~'\n",
    "nameOne = []\n",
    "#open('path to file)\n",
    "\n",
    "\n",
    "#Reading in entire txt files\n",
    "with open(fileName) as f:\n",
    "    for line in f:\n",
    "        #split(delimiter) returns a list of strings / use re.split if multiple delimiters\n",
    "        nameOne = line.strip().split(delimiter)\n",
    "        print(nameOne)\n",
    "        #comment out for entire txt file\n",
    "        #break\n"
   ]
  },
  {
   "cell_type": "code",
   "execution_count": 11,
   "metadata": {},
   "outputs": [
    {
     "name": "stdout",
     "output_type": "stream",
     "text": [
      "6\n",
      "['Name', 'Title', 'Age']\n",
      "INSERT into employees VALUES([['Liz', 'Punk', '6ish'], ['Mat', 'FrisbeeMan', 'N/A'], ['Scott', 'Scooter', 'Unknown'], ['Manoj', 'Data Analyst', 'Unknown'], ['Allan', '1035B', '22']])\n"
     ]
    }
   ],
   "source": [
    "# saving to list of lists\n",
    "\n",
    "result = []\n",
    "\n",
    "with open(fileName, 'r') as f:\n",
    "    sumLines = sum(1 for _ in f)\n",
    "    print(sumLines)\n",
    "\n",
    "with open(fileName, \"r\") as f: \n",
    "    for line in f: \n",
    "        result.append(line.strip().split(delimiter))\n",
    "\n",
    "\n",
    "#'Create table employees('+result[0:1]+' VARCHAR Primary Key, '+ result[0:2] +' VARCHAR,' + result[0:3]+ ' VARCHAR);'\n",
    "print('INSERT into employees VALUES(' + str(result[1:]) + ')')"
   ]
  }
 ],
 "metadata": {
  "kernelspec": {
   "display_name": "Python 3",
   "language": "python",
   "name": "python3"
  },
  "language_info": {
   "codemirror_mode": {
    "name": "ipython",
    "version": 3
   },
   "file_extension": ".py",
   "mimetype": "text/x-python",
   "name": "python",
   "nbconvert_exporter": "python",
   "pygments_lexer": "ipython3",
   "version": "3.6.1"
  }
 },
 "nbformat": 4,
 "nbformat_minor": 2
}
